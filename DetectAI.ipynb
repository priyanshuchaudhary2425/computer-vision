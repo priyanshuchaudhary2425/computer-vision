{
  "nbformat": 4,
  "nbformat_minor": 0,
  "metadata": {
    "colab": {
      "provenance": [],
      "gpuType": "T4"
    },
    "kernelspec": {
      "name": "python3",
      "display_name": "Python 3"
    },
    "language_info": {
      "name": "python"
    },
    "accelerator": "GPU",
    "widgets": {
      "application/vnd.jupyter.widget-state+json": {
        "b7ec92df1244498cb1efcc7e4d282ecd": {
          "model_module": "@jupyter-widgets/controls",
          "model_name": "HBoxModel",
          "model_module_version": "1.5.0",
          "state": {
            "_dom_classes": [],
            "_model_module": "@jupyter-widgets/controls",
            "_model_module_version": "1.5.0",
            "_model_name": "HBoxModel",
            "_view_count": null,
            "_view_module": "@jupyter-widgets/controls",
            "_view_module_version": "1.5.0",
            "_view_name": "HBoxView",
            "box_style": "",
            "children": [
              "IPY_MODEL_13e6108ae27c4720a5dc172d66e518d8",
              "IPY_MODEL_9cc1c258ac2a4fd5bdeea39f90c8d85d",
              "IPY_MODEL_f1878be8a737419fb42ebaec9abb2fc5"
            ],
            "layout": "IPY_MODEL_c346b01dd9ea4aa7a879718308912fc0"
          }
        },
        "13e6108ae27c4720a5dc172d66e518d8": {
          "model_module": "@jupyter-widgets/controls",
          "model_name": "HTMLModel",
          "model_module_version": "1.5.0",
          "state": {
            "_dom_classes": [],
            "_model_module": "@jupyter-widgets/controls",
            "_model_module_version": "1.5.0",
            "_model_name": "HTMLModel",
            "_view_count": null,
            "_view_module": "@jupyter-widgets/controls",
            "_view_module_version": "1.5.0",
            "_view_name": "HTMLView",
            "description": "",
            "description_tooltip": null,
            "layout": "IPY_MODEL_a91970eb6bec4c70b5204f47eaa0a132",
            "placeholder": "​",
            "style": "IPY_MODEL_47b52facbd724a35b1e7fc36a8f681cf",
            "value": "100%"
          }
        },
        "9cc1c258ac2a4fd5bdeea39f90c8d85d": {
          "model_module": "@jupyter-widgets/controls",
          "model_name": "FloatProgressModel",
          "model_module_version": "1.5.0",
          "state": {
            "_dom_classes": [],
            "_model_module": "@jupyter-widgets/controls",
            "_model_module_version": "1.5.0",
            "_model_name": "FloatProgressModel",
            "_view_count": null,
            "_view_module": "@jupyter-widgets/controls",
            "_view_module_version": "1.5.0",
            "_view_name": "ProgressView",
            "bar_style": "success",
            "description": "",
            "description_tooltip": null,
            "layout": "IPY_MODEL_4d660d1895c048e5bb7b3c73041512b7",
            "max": 5,
            "min": 0,
            "orientation": "horizontal",
            "style": "IPY_MODEL_f4233eca4b354d4a9d8e8b929a97f726",
            "value": 5
          }
        },
        "f1878be8a737419fb42ebaec9abb2fc5": {
          "model_module": "@jupyter-widgets/controls",
          "model_name": "HTMLModel",
          "model_module_version": "1.5.0",
          "state": {
            "_dom_classes": [],
            "_model_module": "@jupyter-widgets/controls",
            "_model_module_version": "1.5.0",
            "_model_name": "HTMLModel",
            "_view_count": null,
            "_view_module": "@jupyter-widgets/controls",
            "_view_module_version": "1.5.0",
            "_view_name": "HTMLView",
            "description": "",
            "description_tooltip": null,
            "layout": "IPY_MODEL_b677422364b343d680198418048d969f",
            "placeholder": "​",
            "style": "IPY_MODEL_4e972bf413784354982169bb8bb63925",
            "value": " 5/5 [00:37&lt;00:00,  7.54s/it]"
          }
        },
        "c346b01dd9ea4aa7a879718308912fc0": {
          "model_module": "@jupyter-widgets/base",
          "model_name": "LayoutModel",
          "model_module_version": "1.2.0",
          "state": {
            "_model_module": "@jupyter-widgets/base",
            "_model_module_version": "1.2.0",
            "_model_name": "LayoutModel",
            "_view_count": null,
            "_view_module": "@jupyter-widgets/base",
            "_view_module_version": "1.2.0",
            "_view_name": "LayoutView",
            "align_content": null,
            "align_items": null,
            "align_self": null,
            "border": null,
            "bottom": null,
            "display": null,
            "flex": null,
            "flex_flow": null,
            "grid_area": null,
            "grid_auto_columns": null,
            "grid_auto_flow": null,
            "grid_auto_rows": null,
            "grid_column": null,
            "grid_gap": null,
            "grid_row": null,
            "grid_template_areas": null,
            "grid_template_columns": null,
            "grid_template_rows": null,
            "height": null,
            "justify_content": null,
            "justify_items": null,
            "left": null,
            "margin": null,
            "max_height": null,
            "max_width": null,
            "min_height": null,
            "min_width": null,
            "object_fit": null,
            "object_position": null,
            "order": null,
            "overflow": null,
            "overflow_x": null,
            "overflow_y": null,
            "padding": null,
            "right": null,
            "top": null,
            "visibility": null,
            "width": null
          }
        },
        "a91970eb6bec4c70b5204f47eaa0a132": {
          "model_module": "@jupyter-widgets/base",
          "model_name": "LayoutModel",
          "model_module_version": "1.2.0",
          "state": {
            "_model_module": "@jupyter-widgets/base",
            "_model_module_version": "1.2.0",
            "_model_name": "LayoutModel",
            "_view_count": null,
            "_view_module": "@jupyter-widgets/base",
            "_view_module_version": "1.2.0",
            "_view_name": "LayoutView",
            "align_content": null,
            "align_items": null,
            "align_self": null,
            "border": null,
            "bottom": null,
            "display": null,
            "flex": null,
            "flex_flow": null,
            "grid_area": null,
            "grid_auto_columns": null,
            "grid_auto_flow": null,
            "grid_auto_rows": null,
            "grid_column": null,
            "grid_gap": null,
            "grid_row": null,
            "grid_template_areas": null,
            "grid_template_columns": null,
            "grid_template_rows": null,
            "height": null,
            "justify_content": null,
            "justify_items": null,
            "left": null,
            "margin": null,
            "max_height": null,
            "max_width": null,
            "min_height": null,
            "min_width": null,
            "object_fit": null,
            "object_position": null,
            "order": null,
            "overflow": null,
            "overflow_x": null,
            "overflow_y": null,
            "padding": null,
            "right": null,
            "top": null,
            "visibility": null,
            "width": null
          }
        },
        "47b52facbd724a35b1e7fc36a8f681cf": {
          "model_module": "@jupyter-widgets/controls",
          "model_name": "DescriptionStyleModel",
          "model_module_version": "1.5.0",
          "state": {
            "_model_module": "@jupyter-widgets/controls",
            "_model_module_version": "1.5.0",
            "_model_name": "DescriptionStyleModel",
            "_view_count": null,
            "_view_module": "@jupyter-widgets/base",
            "_view_module_version": "1.2.0",
            "_view_name": "StyleView",
            "description_width": ""
          }
        },
        "4d660d1895c048e5bb7b3c73041512b7": {
          "model_module": "@jupyter-widgets/base",
          "model_name": "LayoutModel",
          "model_module_version": "1.2.0",
          "state": {
            "_model_module": "@jupyter-widgets/base",
            "_model_module_version": "1.2.0",
            "_model_name": "LayoutModel",
            "_view_count": null,
            "_view_module": "@jupyter-widgets/base",
            "_view_module_version": "1.2.0",
            "_view_name": "LayoutView",
            "align_content": null,
            "align_items": null,
            "align_self": null,
            "border": null,
            "bottom": null,
            "display": null,
            "flex": null,
            "flex_flow": null,
            "grid_area": null,
            "grid_auto_columns": null,
            "grid_auto_flow": null,
            "grid_auto_rows": null,
            "grid_column": null,
            "grid_gap": null,
            "grid_row": null,
            "grid_template_areas": null,
            "grid_template_columns": null,
            "grid_template_rows": null,
            "height": null,
            "justify_content": null,
            "justify_items": null,
            "left": null,
            "margin": null,
            "max_height": null,
            "max_width": null,
            "min_height": null,
            "min_width": null,
            "object_fit": null,
            "object_position": null,
            "order": null,
            "overflow": null,
            "overflow_x": null,
            "overflow_y": null,
            "padding": null,
            "right": null,
            "top": null,
            "visibility": null,
            "width": null
          }
        },
        "f4233eca4b354d4a9d8e8b929a97f726": {
          "model_module": "@jupyter-widgets/controls",
          "model_name": "ProgressStyleModel",
          "model_module_version": "1.5.0",
          "state": {
            "_model_module": "@jupyter-widgets/controls",
            "_model_module_version": "1.5.0",
            "_model_name": "ProgressStyleModel",
            "_view_count": null,
            "_view_module": "@jupyter-widgets/base",
            "_view_module_version": "1.2.0",
            "_view_name": "StyleView",
            "bar_color": null,
            "description_width": ""
          }
        },
        "b677422364b343d680198418048d969f": {
          "model_module": "@jupyter-widgets/base",
          "model_name": "LayoutModel",
          "model_module_version": "1.2.0",
          "state": {
            "_model_module": "@jupyter-widgets/base",
            "_model_module_version": "1.2.0",
            "_model_name": "LayoutModel",
            "_view_count": null,
            "_view_module": "@jupyter-widgets/base",
            "_view_module_version": "1.2.0",
            "_view_name": "LayoutView",
            "align_content": null,
            "align_items": null,
            "align_self": null,
            "border": null,
            "bottom": null,
            "display": null,
            "flex": null,
            "flex_flow": null,
            "grid_area": null,
            "grid_auto_columns": null,
            "grid_auto_flow": null,
            "grid_auto_rows": null,
            "grid_column": null,
            "grid_gap": null,
            "grid_row": null,
            "grid_template_areas": null,
            "grid_template_columns": null,
            "grid_template_rows": null,
            "height": null,
            "justify_content": null,
            "justify_items": null,
            "left": null,
            "margin": null,
            "max_height": null,
            "max_width": null,
            "min_height": null,
            "min_width": null,
            "object_fit": null,
            "object_position": null,
            "order": null,
            "overflow": null,
            "overflow_x": null,
            "overflow_y": null,
            "padding": null,
            "right": null,
            "top": null,
            "visibility": null,
            "width": null
          }
        },
        "4e972bf413784354982169bb8bb63925": {
          "model_module": "@jupyter-widgets/controls",
          "model_name": "DescriptionStyleModel",
          "model_module_version": "1.5.0",
          "state": {
            "_model_module": "@jupyter-widgets/controls",
            "_model_module_version": "1.5.0",
            "_model_name": "DescriptionStyleModel",
            "_view_count": null,
            "_view_module": "@jupyter-widgets/base",
            "_view_module_version": "1.2.0",
            "_view_name": "StyleView",
            "description_width": ""
          }
        }
      }
    }
  },
  "cells": [
    {
      "cell_type": "markdown",
      "source": [
        "#  **\"See truth. DetectAI.\"**"
      ],
      "metadata": {
        "id": "t0KysnVmqYg0"
      }
    },
    {
      "cell_type": "code",
      "source": [
        "from google.colab import drive\n",
        "drive.mount('/content/drive')"
      ],
      "metadata": {
        "colab": {
          "base_uri": "https://localhost:8080/"
        },
        "id": "k4U_OqqHqeC2",
        "outputId": "825a14a6-b13c-44e0-f496-a41c94f7bba5"
      },
      "execution_count": 1,
      "outputs": [
        {
          "output_type": "stream",
          "name": "stdout",
          "text": [
            "Mounted at /content/drive\n"
          ]
        }
      ]
    },
    {
      "cell_type": "code",
      "source": [
        "import torchvision"
      ],
      "metadata": {
        "id": "09vjGFl6q7Rb"
      },
      "execution_count": 2,
      "outputs": []
    },
    {
      "cell_type": "code",
      "source": [
        "import torch"
      ],
      "metadata": {
        "id": "z0eGbjqt-BVV"
      },
      "execution_count": 4,
      "outputs": []
    },
    {
      "cell_type": "code",
      "source": [
        "device = torch.device(\"cuda\" if torch.cuda.is_available() else \"cpu\")\n",
        "print(f\"✅ Using device: {device}\")"
      ],
      "metadata": {
        "colab": {
          "base_uri": "https://localhost:8080/"
        },
        "id": "xzbiCIVS7hxy",
        "outputId": "8eb09e0e-fd4e-4c41-b076-e359255b66d3"
      },
      "execution_count": 5,
      "outputs": [
        {
          "output_type": "stream",
          "name": "stdout",
          "text": [
            "✅ Using device: cuda\n"
          ]
        }
      ]
    },
    {
      "cell_type": "code",
      "source": [
        "torchvision.__version__"
      ],
      "metadata": {
        "colab": {
          "base_uri": "https://localhost:8080/",
          "height": 36
        },
        "id": "ma8D2c48srLP",
        "outputId": "71cb683f-1cbf-468c-8856-911c3fce7528"
      },
      "execution_count": 6,
      "outputs": [
        {
          "output_type": "execute_result",
          "data": {
            "text/plain": [
              "'0.23.0+cu126'"
            ],
            "application/vnd.google.colaboratory.intrinsic+json": {
              "type": "string"
            }
          },
          "metadata": {},
          "execution_count": 6
        }
      ]
    },
    {
      "cell_type": "markdown",
      "source": [
        "# 1. Getting Dataset in Desired Formate"
      ],
      "metadata": {
        "id": "FQccrYA6T_K0"
      }
    },
    {
      "cell_type": "code",
      "source": [
        "\"\"\"# --------------------------------------------------------------\n",
        "# NOTE:\n",
        "# This code was used to split the dataset into train/validation\n",
        "# folders and copy images into them. Shutil.copy is slow for\n",
        "# large datasets, so this was only used once to prepare data\n",
        "# and is kept here for reference.\n",
        "# --------------------------------------------------------------\n",
        "\n",
        "from pathlib import Path\n",
        "from sklearn.model_selection import train_test_split\n",
        "from torchvision import transforms\n",
        "from torch.utils.data import Dataset, DataLoader\n",
        "from PIL import Image\n",
        "import shutil\n",
        "\n",
        "# ------------------- Dataset paths -------------------\n",
        "dataset_path = \"/content/drive/MyDrive/DATASET\"\n",
        "fake_image_path = \"/content/drive/MyDrive/DATASET/fake_cifake_images\"\n",
        "real_image_path = \"/content/drive/MyDrive/DATASET/real_cifake_images\"\n",
        "test_path = \"/content/drive/MyDrive/DATASET/test\"\n",
        "\n",
        "fake_dir = Path(fake_image_path)\n",
        "real_dir = Path(real_image_path)\n",
        "\n",
        "# ------------------- Collect all images -------------------\n",
        "fake_images = list(fake_dir.glob(\"*.*\"))\n",
        "real_images = list(real_dir.glob(\"*.*\"))\n",
        "\n",
        "# ------------------- Train/Validation folder setup -------------------\n",
        "train_dir = Path(\"data/train\")\n",
        "val_dir = Path(\"data/val\")\n",
        "\n",
        "fake_train = train_dir / \"fake\"\n",
        "real_train = train_dir / \"real\"\n",
        "fake_val = val_dir / \"fake\"\n",
        "real_val = val_dir / \"real\"\n",
        "\n",
        "# Create folders if they do not exist\n",
        "for path in [fake_train, real_train, fake_val, real_val]:\n",
        "    path.mkdir(parents=True, exist_ok=True)\n",
        "\n",
        "# ------------------- Split the dataset -------------------\n",
        "# Using 80% for training and 20% for validation\n",
        "train_fake, val_fake = train_test_split(fake_images, test_size=0.2, random_state=42)\n",
        "train_real, val_real = train_test_split(real_images, test_size=0.2, random_state=42)\n",
        "\n",
        "# ------------------- Copy images to corresponding folders -------------------\n",
        "for f in train_fake:\n",
        "    shutil.copy(f, fake_train)\n",
        "\n",
        "for f in val_fake:\n",
        "    shutil.copy(f, fake_val)\n",
        "\n",
        "for f in train_real:\n",
        "    shutil.copy(f, real_train)\n",
        "\n",
        "for f in val_real:\n",
        "    shutil.copy(f, real_val)\n",
        "\n",
        "# ------------------- Print dataset sizes for verification -------------------\n",
        "print(\"Train Fake:\", len(train_fake))\n",
        "print(\"Validation Fake:\", len(val_fake))\n",
        "print(\"Train Real:\", len(train_real))\n",
        "print(\"Validation Real:\", len(val_real))\n",
        "\"\"\""
      ],
      "metadata": {
        "colab": {
          "base_uri": "https://localhost:8080/",
          "height": 157
        },
        "id": "vwba0w_ePTRg",
        "outputId": "c4d5f094-e0c8-449a-ad68-cc68bf53ba88"
      },
      "execution_count": 7,
      "outputs": [
        {
          "output_type": "execute_result",
          "data": {
            "text/plain": [
              "'# --------------------------------------------------------------\\n# NOTE:\\n# This code was used to split the dataset into train/validation\\n# folders and copy images into them. Shutil.copy is slow for\\n# large datasets, so this was only used once to prepare data\\n# and is kept here for reference.\\n# --------------------------------------------------------------\\n\\nfrom pathlib import Path\\nfrom sklearn.model_selection import train_test_split\\nfrom torchvision import transforms\\nfrom torch.utils.data import Dataset, DataLoader\\nfrom PIL import Image\\nimport shutil\\n\\n# ------------------- Dataset paths -------------------\\ndataset_path = \"/content/drive/MyDrive/DATASET\"\\nfake_image_path = \"/content/drive/MyDrive/DATASET/fake_cifake_images\"\\nreal_image_path = \"/content/drive/MyDrive/DATASET/real_cifake_images\"\\ntest_path = \"/content/drive/MyDrive/DATASET/test\"\\n\\nfake_dir = Path(fake_image_path)\\nreal_dir = Path(real_image_path)\\n\\n# ------------------- Collect all images -------------------\\nfake_images = list(fake_dir.glob(\"*.*\"))\\nreal_images = list(real_dir.glob(\"*.*\"))\\n\\n# ------------------- Train/Validation folder setup -------------------\\ntrain_dir = Path(\"data/train\")\\nval_dir = Path(\"data/val\")\\n\\nfake_train = train_dir / \"fake\"\\nreal_train = train_dir / \"real\"\\nfake_val = val_dir / \"fake\"\\nreal_val = val_dir / \"real\"\\n\\n# Create folders if they do not exist\\nfor path in [fake_train, real_train, fake_val, real_val]:\\n    path.mkdir(parents=True, exist_ok=True)\\n\\n# ------------------- Split the dataset -------------------\\n# Using 80% for training and 20% for validation\\ntrain_fake, val_fake = train_test_split(fake_images, test_size=0.2, random_state=42)\\ntrain_real, val_real = train_test_split(real_images, test_size=0.2, random_state=42)\\n\\n# ------------------- Copy images to corresponding folders -------------------\\nfor f in train_fake:\\n    shutil.copy(f, fake_train)\\n\\nfor f in val_fake:\\n    shutil.copy(f, fake_val)\\n\\nfor f in train_real:\\n    shutil.copy(f, real_train)\\n\\nfor f in val_real:\\n    shutil.copy(f, real_val)\\n\\n# ------------------- Print dataset sizes for verification -------------------\\nprint(\"Train Fake:\", len(train_fake))\\nprint(\"Validation Fake:\", len(val_fake))\\nprint(\"Train Real:\", len(train_real))\\nprint(\"Validation Real:\", len(val_real))\\n'"
            ],
            "application/vnd.google.colaboratory.intrinsic+json": {
              "type": "string"
            }
          },
          "metadata": {},
          "execution_count": 7
        }
      ]
    },
    {
      "cell_type": "code",
      "source": [
        "# Now lets get the zip folder and extract!!!\n",
        "from pathlib import Path\n",
        "import zipfile\n",
        "\n",
        "\n",
        "dataset_path = \"/content/drive/MyDrive/deefFake_dataset.zip\"\n",
        "extract_folder = Path(\"dataset\")\n",
        "\n",
        "extract_folder.mkdir(parents=True, exist_ok=True)\n",
        "\n",
        "\n",
        "with zipfile.ZipFile(dataset_path, \"r\") as zip_file:\n",
        "  zip_file.extractall(extract_folder)\n",
        "\n",
        "print(f\"Dataset extracted to: {extract_folder}\")"
      ],
      "metadata": {
        "colab": {
          "base_uri": "https://localhost:8080/"
        },
        "id": "MYkeaai7SihE",
        "outputId": "a0bbae31-fbe5-4dee-cafe-617b28533ca5"
      },
      "execution_count": 8,
      "outputs": [
        {
          "output_type": "stream",
          "name": "stdout",
          "text": [
            "Dataset extracted to: dataset\n"
          ]
        }
      ]
    },
    {
      "cell_type": "code",
      "source": [
        "train_dir = Path(\"/content/dataset/dataset/train\")\n",
        "val_dir = Path(\"/content/dataset/dataset/val\")"
      ],
      "metadata": {
        "id": "5YVGNI4lVjT0"
      },
      "execution_count": 9,
      "outputs": []
    },
    {
      "cell_type": "markdown",
      "source": [
        "# 2. Visualize the data"
      ],
      "metadata": {
        "id": "qc2PRYjtWay7"
      }
    },
    {
      "cell_type": "code",
      "source": [
        "from PIL import Image\n",
        "import matplotlib.pyplot as plt\n",
        "import random\n",
        "\n",
        "# random.seed(42) # I found this will not work here\n",
        "# Creating image list path\n",
        "image_path_list = list(train_dir.glob(\"*/*\"))\n",
        "\n",
        "# Selecting random image\n",
        "random_image_path = random.choice(image_path_list)\n",
        "\n",
        "# Creating class for random_image_path\n",
        "random_image_class = random_image_path.parent.stem\n",
        "\n",
        "# Plotting image\n",
        "img = Image.open(random_image_path)\n",
        "\n",
        "# Print metadeta\n",
        "print(f\"Class name: {random_image_class}\")\n",
        "print(f\"Height: {img.height}\")\n",
        "print(f\"Width: {img.width}\")\n",
        "img"
      ],
      "metadata": {
        "colab": {
          "base_uri": "https://localhost:8080/",
          "height": 101
        },
        "id": "EasedE5cWm8Q",
        "outputId": "b783e4e7-cb04-4546-a5c8-8c8320bd14f5"
      },
      "execution_count": 10,
      "outputs": [
        {
          "output_type": "stream",
          "name": "stdout",
          "text": [
            "Class name: real\n",
            "Height: 32\n",
            "Width: 32\n"
          ]
        },
        {
          "output_type": "execute_result",
          "data": {
            "text/plain": [
              "<PIL.PngImagePlugin.PngImageFile image mode=RGB size=32x32>"
            ],
            "image/png": "[encoded data removed]",
            "image/jpeg": "[encoded data removed]"
          },
          "metadata": {},
          "execution_count": 10
        }
      ]
    },
    {
      "cell_type": "code",
      "source": [
        "# Using matplotlib to plot\n",
        "import matplotlib.pyplot as plt\n",
        "import numpy as np\n",
        "\n",
        "image_as_array = np.asarray(img)\n",
        "\n",
        "plt.figure(figsize=(10, 7))\n",
        "plt.imshow(image_as_array)\n",
        "plt.title(random_image_class)\n",
        "plt.axis(False);"
      ],
      "metadata": {
        "id": "3Y0cmNRPWyPZ",
        "colab": {
          "base_uri": "https://localhost:8080/",
          "height": 598
        },
        "outputId": "aae1292b-7e7e-4269-ff5e-0d84b6a70dce"
      },
      "execution_count": 11,
      "outputs": [
        {
          "output_type": "display_data",
          "data": {
            "text/plain": [
              "<Figure size 1000x700 with 1 Axes>"
            ],
            "image/png": "[encoded data removed]"
          },
          "metadata": {}
        }
      ]
    },
    {
      "cell_type": "markdown",
      "source": [
        "# 3. Transforming Data"
      ],
      "metadata": {
        "id": "e96_WB4M0nNS"
      }
    },
    {
      "cell_type": "code",
      "source": [
        "import torch\n",
        "from torch.utils.data import DataLoader\n",
        "from torchvision import datasets, transforms"
      ],
      "metadata": {
        "id": "ndQSSRrw0hjT"
      },
      "execution_count": 12,
      "outputs": []
    },
    {
      "cell_type": "code",
      "source": [
        "# Write transform for image\n",
        "data_transform = transforms.Compose([\n",
        "    # Resize the images to 64x64\n",
        "    transforms.Resize(size=(64, 64)),\n",
        "    # Flip the images randomly on the horizontal\n",
        "    transforms.RandomHorizontalFlip(p=0.5), # p = probability of flip, 0.5 = 50% chance\n",
        "    # Turn the image into a torch.Tensor\n",
        "    transforms.ToTensor() # this also converts all pixel values from 0 to 255 to be between 0.0 and 1.0\n",
        "])"
      ],
      "metadata": {
        "id": "JQEoUk6K0qo0"
      },
      "execution_count": 13,
      "outputs": []
    },
    {
      "cell_type": "code",
      "source": [
        "def plot_transformed_images(image_paths, transform, n=3, seed=42):\n",
        "    \"\"\"Plots a series of random images from image_paths.\n",
        "\n",
        "    Will open n image paths from image_paths, transform them\n",
        "    with transform and plot them side by side.\n",
        "\n",
        "    Args:\n",
        "        image_paths (list): List of target image paths.\n",
        "        transform (PyTorch Transforms): Transforms to apply to images.\n",
        "        n (int, optional): Number of images to plot. Defaults to 3.\n",
        "        seed (int, optional): Random seed for the random generator. Defaults to 42.\n",
        "    \"\"\"\n",
        "    random.seed(seed)\n",
        "    random_image_paths = random.sample(image_paths, k=n)\n",
        "    for image_path in random_image_paths:\n",
        "        with Image.open(image_path) as f:\n",
        "            fig, ax = plt.subplots(1, 2)\n",
        "            ax[0].imshow(f)\n",
        "            ax[0].set_title(f\"Original \\nSize: {f.size}\")\n",
        "            ax[0].axis(\"off\")\n",
        "\n",
        "            # Transform and plot image\n",
        "            # Note: permute() will change shape of image to suit matplotlib\n",
        "            # (PyTorch default is [C, H, W] but Matplotlib is [H, W, C])\n",
        "            transformed_image = transform(f).permute(1, 2, 0)\n",
        "            ax[1].imshow(transformed_image)\n",
        "            ax[1].set_title(f\"Transformed \\nSize: {transformed_image.shape}\")\n",
        "            ax[1].axis(\"off\")\n",
        "\n",
        "            fig.suptitle(f\"Class: {image_path.parent.stem}\", fontsize=16)\n",
        "\n",
        "plot_transformed_images(image_path_list,\n",
        "                        transform=data_transform,\n",
        "                        n=3)"
      ],
      "metadata": {
        "colab": {
          "base_uri": "https://localhost:8080/",
          "height": 1000
        },
        "id": "KkH5a1ly0w5c",
        "outputId": "c0d986ee-5f87-4325-b03d-b72d43882fb5"
      },
      "execution_count": 14,
      "outputs": [
        {
          "output_type": "display_data",
          "data": {
            "text/plain": [
              "<Figure size 640x480 with 2 Axes>"
            ],
            "image/png": "[encoded data removed]"
          },
          "metadata": {}
        },
        {
          "output_type": "display_data",
          "data": {
            "text/plain": [
              "<Figure size 640x480 with 2 Axes>"
            ],
            "image/png": "[encoded data removed]"
          },
          "metadata": {}
        },
        {
          "output_type": "display_data",
          "data": {
            "text/plain": [
              "<Figure size 640x480 with 2 Axes>"
            ],
            "image/png": "[encoded data removed]"
          },
          "metadata": {}
        }
      ]
    },
    {
      "cell_type": "markdown",
      "source": [
        "# 4. Loading Image using ImageFolder"
      ],
      "metadata": {
        "id": "YopK0JTb03FX"
      }
    },
    {
      "cell_type": "code",
      "source": [
        "# Use ImageFolder to create dataset(s)\n",
        "from torchvision import datasets\n",
        "train_data = datasets.ImageFolder(root=train_dir, # target folder of images\n",
        "                                  transform=data_transform, # transforms to perform on data (images)\n",
        "                                  target_transform=None) # transforms to perform on labels (if necessary)\n",
        "\n",
        "val_data = datasets.ImageFolder(root=val_dir,\n",
        "                                 transform=data_transform)\n",
        "\n",
        "print(f\"Train data:\\n{train_data}\\nTest data:\\n{val_data}\")"
      ],
      "metadata": {
        "colab": {
          "base_uri": "https://localhost:8080/"
        },
        "id": "lG5w2iar1LoZ",
        "outputId": "20880aca-5d56-4b5d-e3ed-1461581da2e6"
      },
      "execution_count": 15,
      "outputs": [
        {
          "output_type": "stream",
          "name": "stdout",
          "text": [
            "Train data:\n",
            "Dataset ImageFolder\n",
            "    Number of datapoints: 1600\n",
            "    Root location: /content/dataset/dataset/train\n",
            "    StandardTransform\n",
            "Transform: Compose(\n",
            "               Resize(size=(64, 64), interpolation=bilinear, max_size=None, antialias=True)\n",
            "               RandomHorizontalFlip(p=0.5)\n",
            "               ToTensor()\n",
            "           )\n",
            "Test data:\n",
            "Dataset ImageFolder\n",
            "    Number of datapoints: 400\n",
            "    Root location: /content/dataset/dataset/val\n",
            "    StandardTransform\n",
            "Transform: Compose(\n",
            "               Resize(size=(64, 64), interpolation=bilinear, max_size=None, antialias=True)\n",
            "               RandomHorizontalFlip(p=0.5)\n",
            "               ToTensor()\n",
            "           )\n"
          ]
        }
      ]
    },
    {
      "cell_type": "code",
      "source": [
        "# Get class names as a list\n",
        "class_names = train_data.classes\n",
        "class_names"
      ],
      "metadata": {
        "colab": {
          "base_uri": "https://localhost:8080/"
        },
        "id": "iS3B47CL1VaE",
        "outputId": "003e09d3-45aa-487d-f165-43794ee338df"
      },
      "execution_count": 16,
      "outputs": [
        {
          "output_type": "execute_result",
          "data": {
            "text/plain": [
              "['fake', 'real']"
            ]
          },
          "metadata": {},
          "execution_count": 16
        }
      ]
    },
    {
      "cell_type": "code",
      "source": [
        "# Can also get class names as a dict\n",
        "class_dict = train_data.class_to_idx\n",
        "class_dict"
      ],
      "metadata": {
        "colab": {
          "base_uri": "https://localhost:8080/"
        },
        "id": "T04noPDO1aa-",
        "outputId": "201d4be9-ab67-4f57-8f11-0d52554ece22"
      },
      "execution_count": 17,
      "outputs": [
        {
          "output_type": "execute_result",
          "data": {
            "text/plain": [
              "{'fake': 0, 'real': 1}"
            ]
          },
          "metadata": {},
          "execution_count": 17
        }
      ]
    },
    {
      "cell_type": "code",
      "source": [
        "# Check the lengths\n",
        "len(train_data), len(val_data)"
      ],
      "metadata": {
        "colab": {
          "base_uri": "https://localhost:8080/"
        },
        "id": "RtIu16n21dXz",
        "outputId": "7ac5bfe3-a9f2-415c-aa39-790d1ca2dcea"
      },
      "execution_count": 18,
      "outputs": [
        {
          "output_type": "execute_result",
          "data": {
            "text/plain": [
              "(1600, 400)"
            ]
          },
          "metadata": {},
          "execution_count": 18
        }
      ]
    },
    {
      "cell_type": "code",
      "source": [
        "img, label = train_data[0][0], train_data[0][1]\n",
        "print(f\"Image tensor:\\n{img}\")\n",
        "print(f\"Image shape: {img.shape}\")\n",
        "print(f\"Image datatype: {img.dtype}\")\n",
        "print(f\"Image label: {label}\")\n",
        "print(f\"Label datatype: {type(label)}\")"
      ],
      "metadata": {
        "colab": {
          "base_uri": "https://localhost:8080/"
        },
        "id": "CMCnsGJJ1fHI",
        "outputId": "74ebd043-a136-4d4e-bf67-4eb1148e2fe8"
      },
      "execution_count": 19,
      "outputs": [
        {
          "output_type": "stream",
          "name": "stdout",
          "text": [
            "Image tensor:\n",
            "tensor([[[0.3020, 0.3059, 0.3098,  ..., 0.3804, 0.3451, 0.3255],\n",
            "         [0.2980, 0.3020, 0.3137,  ..., 0.3412, 0.3020, 0.2824],\n",
            "         [0.2863, 0.2980, 0.3176,  ..., 0.2627, 0.2157, 0.1922],\n",
            "         ...,\n",
            "         [0.1961, 0.1961, 0.1922,  ..., 0.0667, 0.0627, 0.0627],\n",
            "         [0.2078, 0.2078, 0.2039,  ..., 0.0902, 0.0980, 0.1020],\n",
            "         [0.2118, 0.2118, 0.2078,  ..., 0.1020, 0.1137, 0.1216]],\n",
            "\n",
            "        [[0.3176, 0.3255, 0.3451,  ..., 0.4235, 0.3882, 0.3686],\n",
            "         [0.3137, 0.3216, 0.3490,  ..., 0.3843, 0.3451, 0.3216],\n",
            "         [0.3020, 0.3176, 0.3529,  ..., 0.3059, 0.2549, 0.2314],\n",
            "         ...,\n",
            "         [0.1294, 0.1373, 0.1451,  ..., 0.0627, 0.0588, 0.0588],\n",
            "         [0.1412, 0.1490, 0.1569,  ..., 0.0863, 0.0941, 0.0980],\n",
            "         [0.1451, 0.1529, 0.1647,  ..., 0.0980, 0.1098, 0.1176]],\n",
            "\n",
            "        [[0.3294, 0.3373, 0.3529,  ..., 0.4314, 0.3961, 0.3765],\n",
            "         [0.3255, 0.3373, 0.3569,  ..., 0.3922, 0.3529, 0.3294],\n",
            "         [0.3176, 0.3333, 0.3608,  ..., 0.3137, 0.2627, 0.2353],\n",
            "         ...,\n",
            "         [0.0980, 0.1020, 0.1059,  ..., 0.0431, 0.0392, 0.0392],\n",
            "         [0.1020, 0.1059, 0.1137,  ..., 0.0667, 0.0745, 0.0784],\n",
            "         [0.1059, 0.1098, 0.1176,  ..., 0.0784, 0.0902, 0.0980]]])\n",
            "Image shape: torch.Size([3, 64, 64])\n",
            "Image datatype: torch.float32\n",
            "Image label: 0\n",
            "Label datatype: <class 'int'>\n"
          ]
        }
      ]
    },
    {
      "cell_type": "code",
      "source": [
        "# Rearrange the order of dimensions\n",
        "img_permute = img.permute(1, 2, 0)\n",
        "\n",
        "# Print out different shapes (before and after permute)\n",
        "print(f\"Original shape: {img.shape} -> [color_channels, height, width]\")\n",
        "print(f\"Image permute shape: {img_permute.shape} -> [height, width, color_channels]\")\n",
        "\n",
        "# Plot the image\n",
        "plt.figure(figsize=(10, 7))\n",
        "plt.imshow(img.permute(1, 2, 0))\n",
        "plt.axis(\"off\")\n",
        "plt.title(class_names[label], fontsize=14);"
      ],
      "metadata": {
        "colab": {
          "base_uri": "https://localhost:8080/",
          "height": 634
        },
        "id": "CqxsVJmm1oKL",
        "outputId": "1a1333e4-e549-4ae8-ddd5-44ebb3ba08eb"
      },
      "execution_count": 20,
      "outputs": [
        {
          "output_type": "stream",
          "name": "stdout",
          "text": [
            "Original shape: torch.Size([3, 64, 64]) -> [color_channels, height, width]\n",
            "Image permute shape: torch.Size([64, 64, 3]) -> [height, width, color_channels]\n"
          ]
        },
        {
          "output_type": "display_data",
          "data": {
            "text/plain": [
              "<Figure size 1000x700 with 1 Axes>"
            ],
            "image/png": "[encoded data removed]"
          },
          "metadata": {}
        }
      ]
    },
    {
      "cell_type": "markdown",
      "source": [
        "## 4.1 Turning Images into DataLoader"
      ],
      "metadata": {
        "id": "gyX0Czb718Hd"
      }
    },
    {
      "cell_type": "code",
      "source": [
        "# Turn train and test Datasets into DataLoaders\n",
        "from torch.utils.data import DataLoader\n",
        "train_dataloader = DataLoader(dataset=train_data,\n",
        "                              batch_size=4, # how many samples per batch?\n",
        "                              num_workers=1, # how many subprocesses to use for data loading? (higher = more)\n",
        "                              shuffle=True) # shuffle the data?\n",
        "\n",
        "val_dataloader = DataLoader(dataset=val_data,\n",
        "                             batch_size=4,\n",
        "                             num_workers=1,\n",
        "                             shuffle=False) # don't usually need to shuffle testing data\n",
        "\n",
        "train_dataloader, val_dataloader"
      ],
      "metadata": {
        "colab": {
          "base_uri": "https://localhost:8080/"
        },
        "id": "7C5vzNm02SWI",
        "outputId": "a779c5a7-a0b7-407c-e391-042ccdd32404"
      },
      "execution_count": 36,
      "outputs": [
        {
          "output_type": "execute_result",
          "data": {
            "text/plain": [
              "(<torch.utils.data.dataloader.DataLoader at 0x79edd44ac950>,\n",
              " <torch.utils.data.dataloader.DataLoader at 0x79edd44ae000>)"
            ]
          },
          "metadata": {},
          "execution_count": 36
        }
      ]
    },
    {
      "cell_type": "code",
      "source": [
        "img, label = next(iter(train_dataloader))\n",
        "\n",
        "# Batch size will now be 1, try changing the batch_size parameter above and see what happens\n",
        "print(f\"Image shape: {img.shape} -> [batch_size, color_channels, height, width]\")\n",
        "print(f\"Label shape: {label.shape}\")"
      ],
      "metadata": {
        "colab": {
          "base_uri": "https://localhost:8080/"
        },
        "id": "H134nPAF2Y8-",
        "outputId": "899c9066-315b-4e79-c254-dbb18a0bded3"
      },
      "execution_count": 37,
      "outputs": [
        {
          "output_type": "stream",
          "name": "stdout",
          "text": [
            "Image shape: torch.Size([4, 3, 64, 64]) -> [batch_size, color_channels, height, width]\n",
            "Label shape: torch.Size([4])\n"
          ]
        }
      ]
    },
    {
      "cell_type": "markdown",
      "source": [
        "# 5. Lets Train"
      ],
      "metadata": {
        "id": "mi9cIom52eBp"
      }
    },
    {
      "cell_type": "markdown",
      "source": [
        "## 5.1 Model 0"
      ],
      "metadata": {
        "id": "FPjffOd124DU"
      }
    },
    {
      "cell_type": "code",
      "source": [
        "import torch\n",
        "import torch.nn as nn"
      ],
      "metadata": {
        "id": "AUsV1DFy6MuK"
      },
      "execution_count": 38,
      "outputs": []
    },
    {
      "cell_type": "code",
      "source": [
        "import torch\n",
        "import torchvision\n",
        "\n",
        "# Device\n",
        "device = torch.device(\"cuda\" if torch.cuda.is_available() else \"cpu\")\n",
        "\n",
        "# Load pretrained GoogLeNet\n",
        "googlenet_weights = torchvision.models.GoogLeNet_Weights.DEFAULT\n",
        "model_0 = torchvision.models.googlenet(weights=googlenet_weights)\n",
        "\n",
        "# Freeze all pretrained parameters\n",
        "for param in model_0.parameters():\n",
        "    param.requires_grad = False\n",
        "\n",
        "# Replace the fully connected layer for your number of classes\n",
        "model_0.fc = torch.nn.Linear(in_features=1024, out_features=2)\n",
        "\n",
        "# Move the ENTIRE model (including new fc) to device\n",
        "model_0 = model_0.to(device)\n"
      ],
      "metadata": {
        "id": "JJwerqn43o3j"
      },
      "execution_count": 39,
      "outputs": []
    },
    {
      "cell_type": "code",
      "source": [
        "def train_step(model: torch.nn.Module,\n",
        "               dataloader: torch.utils.data.DataLoader,\n",
        "               loss_fn: torch.nn.Module,\n",
        "               optimizer: torch.optim.Optimizer):\n",
        "    # Put model in train mode\n",
        "    model.train()\n",
        "\n",
        "    # Setup train loss and train accuracy values\n",
        "    train_loss, train_acc = 0, 0\n",
        "\n",
        "    # Loop through data loader data batches\n",
        "    for batch, (X, y) in enumerate(dataloader):\n",
        "        # Send data to target device\n",
        "        X, y = X.to(device), y.to(device)\n",
        "\n",
        "        # 1. Forward pass\n",
        "        y_pred = model(X)\n",
        "\n",
        "        # 2. Calculate  and accumulate loss\n",
        "        loss = loss_fn(y_pred, y)\n",
        "        train_loss += loss.item()\n",
        "\n",
        "        # 3. Optimizer zero grad\n",
        "        optimizer.zero_grad()\n",
        "\n",
        "        # 4. Loss backward\n",
        "        loss.backward()\n",
        "\n",
        "        # 5. Optimizer step\n",
        "        optimizer.step()\n",
        "\n",
        "        # Calculate and accumulate accuracy metrics across all batches\n",
        "        y_pred_class = torch.argmax(torch.softmax(y_pred, dim=1), dim=1)\n",
        "        train_acc += (y_pred_class == y).sum().item()/len(y_pred)\n",
        "\n",
        "    # Adjust metrics to get average loss and accuracy per batch\n",
        "    train_loss = train_loss / len(dataloader)\n",
        "    train_acc = train_acc / len(dataloader)\n",
        "    return train_loss, train_acc"
      ],
      "metadata": {
        "id": "p2OC6yV49IzP"
      },
      "execution_count": 40,
      "outputs": []
    },
    {
      "cell_type": "code",
      "source": [
        "def test_step(model: torch.nn.Module,\n",
        "              dataloader: torch.utils.data.DataLoader,\n",
        "              loss_fn: torch.nn.Module):\n",
        "    # Put model in eval mode\n",
        "    model.eval()\n",
        "\n",
        "    # Setup test loss and test accuracy values\n",
        "    test_loss, test_acc = 0, 0\n",
        "\n",
        "    # Turn on inference context manager\n",
        "    with torch.inference_mode():\n",
        "        # Loop through DataLoader batches\n",
        "        for batch, (X, y) in enumerate(dataloader):\n",
        "            # Send data to target device\n",
        "            X, y = X.to(device), y.to(device)\n",
        "\n",
        "            # 1. Forward pass\n",
        "            test_pred_logits = model(X)\n",
        "\n",
        "            # 2. Calculate and accumulate loss\n",
        "            loss = loss_fn(test_pred_logits, y)\n",
        "            test_loss += loss.item()\n",
        "\n",
        "            # Calculate and accumulate accuracy\n",
        "            test_pred_labels = test_pred_logits.argmax(dim=1)\n",
        "            test_acc += ((test_pred_labels == y).sum().item()/len(test_pred_labels))\n",
        "\n",
        "    # Adjust metrics to get average loss and accuracy per batch\n",
        "    test_loss = test_loss / len(dataloader)\n",
        "    test_acc = test_acc / len(dataloader)\n",
        "    return test_loss, test_acc"
      ],
      "metadata": {
        "id": "vjdG34cx9C9f"
      },
      "execution_count": 41,
      "outputs": []
    },
    {
      "cell_type": "code",
      "source": [
        "from tqdm.auto import tqdm\n",
        "\n",
        "# 1. Take in various parameters required for training and test steps\n",
        "def train(model: torch.nn.Module,\n",
        "          train_dataloader: torch.utils.data.DataLoader,\n",
        "          test_dataloader: torch.utils.data.DataLoader,\n",
        "          optimizer: torch.optim.Optimizer,\n",
        "          loss_fn: torch.nn.Module = nn.CrossEntropyLoss(),\n",
        "          epochs: int = 5):\n",
        "\n",
        "    # 2. Create empty results dictionary\n",
        "    results = {\"train_loss\": [],\n",
        "        \"train_acc\": [],\n",
        "        \"test_loss\": [],\n",
        "        \"test_acc\": []\n",
        "    }\n",
        "\n",
        "    # 3. Loop through training and testing steps for a number of epochs\n",
        "    for epoch in tqdm(range(epochs)):\n",
        "        train_loss, train_acc = train_step(model=model,\n",
        "                                           dataloader=train_dataloader,\n",
        "                                           loss_fn=loss_fn,\n",
        "                                           optimizer=optimizer)\n",
        "        test_loss, test_acc = test_step(model=model,\n",
        "            dataloader=test_dataloader,\n",
        "            loss_fn=loss_fn)\n",
        "\n",
        "        # 4. Print out what's happening\n",
        "        print(\n",
        "            f\"Epoch: {epoch+1} | \"\n",
        "            f\"train_loss: {train_loss:.4f} | \"\n",
        "            f\"train_acc: {train_acc:.4f} | \"\n",
        "            f\"test_loss: {test_loss:.4f} | \"\n",
        "            f\"test_acc: {test_acc:.4f}\"\n",
        "        )\n",
        "\n",
        "        # 5. Update results dictionary\n",
        "        # Ensure all data is moved to CPU and converted to float for storage\n",
        "        results[\"train_loss\"].append(train_loss.item() if isinstance(train_loss, torch.Tensor) else train_loss)\n",
        "        results[\"train_acc\"].append(train_acc.item() if isinstance(train_acc, torch.Tensor) else train_acc)\n",
        "        results[\"test_loss\"].append(test_loss.item() if isinstance(test_loss, torch.Tensor) else test_loss)\n",
        "        results[\"test_acc\"].append(test_acc.item() if isinstance(test_acc, torch.Tensor) else test_acc)\n",
        "\n",
        "    # 6. Return the filled results at the end of the epochs\n",
        "    return results"
      ],
      "metadata": {
        "id": "_qdKD7fs6D8F"
      },
      "execution_count": 42,
      "outputs": []
    },
    {
      "cell_type": "code",
      "source": [
        "# Set random seeds\n",
        "torch.manual_seed(42)\n",
        "torch.cuda.manual_seed(42)\n",
        "\n",
        "# Set number of epochs\n",
        "NUM_EPOCHS = 5\n",
        "\n",
        "# Setup loss function and optimizer\n",
        "loss_fn = nn.CrossEntropyLoss()\n",
        "optimizer = torch.optim.Adam(params=model_0.parameters(), lr=0.001)\n",
        "\n",
        "# Start the timer\n",
        "from timeit import default_timer as timer\n",
        "start_time = timer()\n",
        "\n",
        "# Train model_0\n",
        "model_0_results = train(model=model_0,\n",
        "                        train_dataloader=train_dataloader,\n",
        "                        test_dataloader=val_dataloader,\n",
        "                        optimizer=optimizer,\n",
        "                        loss_fn=loss_fn,\n",
        "                        epochs=NUM_EPOCHS)\n",
        "\n",
        "# End the timer and print out how long it took\n",
        "end_time = timer()\n",
        "print(f\"Total training time: {end_time-start_time:.3f} seconds\")"
      ],
      "metadata": {
        "colab": {
          "base_uri": "https://localhost:8080/",
          "height": 153,
          "referenced_widgets": [
            "b7ec92df1244498cb1efcc7e4d282ecd",
            "13e6108ae27c4720a5dc172d66e518d8",
            "9cc1c258ac2a4fd5bdeea39f90c8d85d",
            "f1878be8a737419fb42ebaec9abb2fc5",
            "c346b01dd9ea4aa7a879718308912fc0",
            "a91970eb6bec4c70b5204f47eaa0a132",
            "47b52facbd724a35b1e7fc36a8f681cf",
            "4d660d1895c048e5bb7b3c73041512b7",
            "f4233eca4b354d4a9d8e8b929a97f726",
            "b677422364b343d680198418048d969f",
            "4e972bf413784354982169bb8bb63925"
          ]
        },
        "id": "FurNgtY67WZq",
        "outputId": "0ff0341f-9985-4f0e-9b64-6b80cf8ae19c"
      },
      "execution_count": 46,
      "outputs": [
        {
          "output_type": "display_data",
          "data": {
            "text/plain": [
              "  0%|          | 0/5 [00:00<?, ?it/s]"
            ],
            "application/vnd.jupyter.widget-view+json": {
              "version_major": 2,
              "version_minor": 0,
              "model_id": "b7ec92df1244498cb1efcc7e4d282ecd"
            }
          },
          "metadata": {}
        },
        {
          "output_type": "stream",
          "name": "stdout",
          "text": [
            "Epoch: 1 | train_loss: 0.5859 | train_acc: 0.7031 | test_loss: 0.6088 | test_acc: 0.7150\n",
            "Epoch: 2 | train_loss: 0.5711 | train_acc: 0.7281 | test_loss: 0.6896 | test_acc: 0.7200\n",
            "Epoch: 3 | train_loss: 0.5982 | train_acc: 0.6887 | test_loss: 0.7535 | test_acc: 0.7175\n",
            "Epoch: 4 | train_loss: 0.5883 | train_acc: 0.7087 | test_loss: 0.7817 | test_acc: 0.6650\n",
            "Epoch: 5 | train_loss: 0.6107 | train_acc: 0.7119 | test_loss: 0.5996 | test_acc: 0.7200\n",
            "Total training time: 37.323 seconds\n"
          ]
        }
      ]
    },
    {
      "cell_type": "code",
      "source": [
        "model_0_results"
      ],
      "metadata": {
        "colab": {
          "base_uri": "https://localhost:8080/"
        },
        "id": "3ef00UQDBER7",
        "outputId": "a1ca9ec3-8770-4933-d683-6f5696d32747"
      },
      "execution_count": 47,
      "outputs": [
        {
          "output_type": "execute_result",
          "data": {
            "text/plain": [
              "{'train_loss': [0.5858637405745685,\n",
              "  0.571055691037327,\n",
              "  0.5981679223850369,\n",
              "  0.5883356994204223,\n",
              "  0.6106958162412047],\n",
              " 'train_acc': [0.703125, 0.728125, 0.68875, 0.70875, 0.711875],\n",
              " 'test_loss': [0.6088144728168845,\n",
              "  0.6896281960234046,\n",
              "  0.7534653805941344,\n",
              "  0.7817450266703964,\n",
              "  0.5996496671065689],\n",
              " 'test_acc': [0.715, 0.72, 0.7175, 0.665, 0.72]}"
            ]
          },
          "metadata": {},
          "execution_count": 47
        }
      ]
    },
    {
      "cell_type": "markdown",
      "source": [
        "# 6. Finalize the Model with Test"
      ],
      "metadata": {
        "id": "uoEzNrACCAB7"
      }
    },
    {
      "cell_type": "code",
      "source": [],
      "metadata": {
        "id": "1E71uWooEJzi"
      },
      "execution_count": null,
      "outputs": []
    },
    {
      "cell_type": "code",
      "source": [
        "import torch\n",
        "from typing import List\n",
        "import torchvision\n",
        "import matplotlib.pyplot as plt\n",
        "from PIL import Image\n",
        "\n",
        "def pred_and_plot_image(\n",
        "    model: torch.nn.Module,\n",
        "    image_path: str,\n",
        "    class_names: List[str] = None,\n",
        "    transform=None,\n",
        "    device: torch.device = torch.device(\"cuda\" if torch.cuda.is_available() else \"cpu\"),\n",
        "):\n",
        "    \"\"\"Predicts on a target image with a trained model and plots it.\"\"\"\n",
        "\n",
        "    # 1. Load the image as PIL (works with pretrained transforms)\n",
        "    target_image = Image.open(image_path).convert(\"RGB\")\n",
        "\n",
        "    # 2. Apply transforms if provided\n",
        "    if transform:\n",
        "        target_image_tensor = transform(target_image).unsqueeze(0)  # Add batch dim\n",
        "    else:\n",
        "        # fallback: convert to tensor and normalize to [0,1]\n",
        "        target_image_tensor = torchvision.transforms.ToTensor()(target_image).unsqueeze(0)\n",
        "\n",
        "    # 3. Send model and image to device\n",
        "    model.to(device)\n",
        "    target_image_tensor = target_image_tensor.to(device)\n",
        "\n",
        "    # 4. Make prediction\n",
        "    model.eval()\n",
        "    with torch.inference_mode():\n",
        "        pred_logits = model(target_image_tensor)\n",
        "        pred_probs = torch.softmax(pred_logits, dim=1)\n",
        "        pred_label = torch.argmax(pred_probs, dim=1).item()\n",
        "\n",
        "    # 5. Plot\n",
        "    plt.imshow(target_image)\n",
        "    if class_names:\n",
        "        title = f\"Pred: {class_names[pred_label]} | Prob: {pred_probs.max().cpu():.3f}\"\n",
        "    else:\n",
        "        title = f\"Pred: {pred_label} | Prob: {pred_probs.max().cpu():.3f}\"\n",
        "    plt.title(title)\n",
        "    plt.axis(\"off\")\n",
        "    plt.show()\n"
      ],
      "metadata": {
        "id": "QLbg5NviCWMC"
      },
      "execution_count": 64,
      "outputs": []
    },
    {
      "cell_type": "code",
      "source": [
        "pred_and_plot_image(\n",
        "    model=model_0,\n",
        "    image_path=\"/content/dataset/dataset/train/fake/10.png\",\n",
        "    class_names=class_names,\n",
        "    transform=data_transform,  # your pretrained transform\n",
        ")\n"
      ],
      "metadata": {
        "colab": {
          "base_uri": "https://localhost:8080/",
          "height": 428
        },
        "id": "oY7QE2gMCbQb",
        "outputId": "efdb13c3-0993-49ca-b530-357af78b8988"
      },
      "execution_count": 66,
      "outputs": [
        {
          "output_type": "display_data",
          "data": {
            "text/plain": [
              "<Figure size 640x480 with 1 Axes>"
            ],
            "image/png": "[encoded data removed]"
          },
          "metadata": {}
        }
      ]
    },
    {
      "cell_type": "markdown",
      "source": [
        "# 7. Save the model"
      ],
      "metadata": {
        "id": "DcZEF_2VDteW"
      }
    },
    {
      "cell_type": "code",
      "source": [
        "import torch\n",
        "\n",
        "# File path where you want to save the model\n",
        "MODEL_PATH = \"/content/detectAiFull.pth\"\n",
        "\n",
        "# Save only the model weights (recommended)\n",
        "torch.save(model_0, MODEL_PATH)\n",
        "\n",
        "print(f\"Model saved to {MODEL_PATH}\")\n"
      ],
      "metadata": {
        "colab": {
          "base_uri": "https://localhost:8080/"
        },
        "id": "rHaiv06-Fmix",
        "outputId": "d9af1e6b-ea76-4b7c-f0c3-f96a0520d32a"
      },
      "execution_count": 70,
      "outputs": [
        {
          "output_type": "stream",
          "name": "stdout",
          "text": [
            "Model saved to /content/detectAiFull.pth\n"
          ]
        }
      ]
    },
    {
      "cell_type": "code",
      "source": [
        "import torch\n",
        "from PIL import Image\n",
        "import os\n",
        "import json\n",
        "\n",
        "# Device\n",
        "device = torch.device(\"cuda\" if torch.cuda.is_available() else \"cpu\")\n",
        "model_0.eval()\n",
        "model_0.to(device)\n",
        "\n",
        "transform = data_transform\n",
        "\n",
        "# Folder with test images\n",
        "test_folder = \"/content/drive/MyDrive/DATASET/test\"\n",
        "test_images = sorted(os.listdir(test_folder))  # ensures consistent order\n",
        "\n",
        "predictions = []\n",
        "\n",
        "for idx, img_name in enumerate(test_images, start=1):  # start indexing at 1\n",
        "    img_path = os.path.join(test_folder, img_name)\n",
        "    image = Image.open(img_path).convert(\"RGB\")\n",
        "    input_tensor = transform(image).unsqueeze(0).to(device)  # use your transform\n",
        "\n",
        "    with torch.no_grad():\n",
        "        output = model_0(input_tensor)\n",
        "        pred_class = torch.argmax(output, dim=1).item()\n",
        "        pred_label = \"real\" if pred_class == 0 else \"fake\"  # adjust if needed\n",
        "\n",
        "    predictions.append({\n",
        "        \"index\": idx,\n",
        "        \"prediction\": pred_label\n",
        "    })\n",
        "\n",
        "# Save JSON\n",
        "with open(\"chaudharypriyanshu2425.json\", \"w\") as f:\n",
        "    json.dump(predictions, f, indent=4)\n",
        "\n",
        "print(\"Predictions saved to chaudharypriyanshu2425.json\")\n"
      ],
      "metadata": {
        "colab": {
          "base_uri": "https://localhost:8080/"
        },
        "id": "VQKKNiW5FtV_",
        "outputId": "874cc67e-f5c3-4e1c-90ca-e79c64b11f70"
      },
      "execution_count": 69,
      "outputs": [
        {
          "output_type": "stream",
          "name": "stdout",
          "text": [
            "Predictions saved to teamname_prediction.json\n"
          ]
        }
      ]
    }
  ]
}